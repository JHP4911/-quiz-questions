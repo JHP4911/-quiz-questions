{
  "nbformat": 4,
  "nbformat_minor": 0,
  "metadata": {
    "orig_nbformat": 2,
    "colab": {
      "name": "main.ipynb",
      "private_outputs": true,
      "provenance": [],
      "include_colab_link": true
    },
    "language_info": {
      "name": "python"
    },
    "kernelspec": {
      "name": "python3",
      "display_name": "Python 3"
    },
    "accelerator": "TPU"
  },
  "cells": [
    {
      "cell_type": "markdown",
      "metadata": {
        "id": "view-in-github",
        "colab_type": "text"
      },
      "source": [
        "<a href=\"https://colab.research.google.com/github/JHP4911/-quiz-questions/blob/master/main.ipynb\" target=\"_parent\"><img src=\"https://colab.research.google.com/assets/colab-badge.svg\" alt=\"Open In Colab\"/></a>"
      ]
    },
    {
      "cell_type": "code",
      "metadata": {
        "id": "QP3_LohJQuh7"
      },
      "source": [
        "import cv2\n",
        "import numpy as np\n",
        "\n",
        "def sketch(image):\n",
        "  \n",
        "\n",
        "# convert the captured image into gray scale image\n",
        "\n",
        "   grayimg=cv2.cvtColor(image,cv2.COLOR_BGR2GRAY)\n",
        "  \n",
        "# blurring the image\n",
        "   blurimg=cv2.GaussianBlur(grayimg,(3,3),0)\n",
        "  \n",
        "# extracting edges\n",
        "   edges=cv2.Canny(blurimg,10,80)\n",
        "  \n",
        "#applying threshold\n",
        "   ret,mimg=cv2.threshold(edges,50,255,cv2.THRESH_BINARY_INV)\n",
        "   return mimg\n",
        "# Capturing video from webcam\n",
        "vid_capt=cv2.VideoCapture(0)\n",
        "# Capturing the video frame by frame\n",
        "while True:\n",
        "   ret,pic_capt=vid_capt.read()\n",
        "   cv2.imshow('Your Sketch',getmysketch(pic_capt))\n",
        "   # Key13 is ENTER_KEY\n",
        "   if cv2.waitKey(1)==13:\n",
        "   break\n",
        "# releasing_webcam\n",
        "vid_capt.release()\n",
        "# destroying_window\n",
        "cv2.destroyAllWindows()"
      ],
      "execution_count": null,
      "outputs": []
    }
  ]
}